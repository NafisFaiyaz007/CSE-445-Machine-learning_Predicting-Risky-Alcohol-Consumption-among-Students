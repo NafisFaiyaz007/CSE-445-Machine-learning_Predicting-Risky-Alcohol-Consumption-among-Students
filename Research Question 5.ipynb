{
 "cells": [
  {
   "cell_type": "markdown",
   "id": "22a062ac",
   "metadata": {},
   "source": [
    "## research question 5\n",
    "Does lack of family support or educational support contribute as a factor to consuming alcohol?\n"
   ]
  },
  {
   "cell_type": "code",
   "execution_count": null,
   "id": "a8186065",
   "metadata": {},
   "outputs": [],
   "source": []
  }
 ],
 "metadata": {
  "kernelspec": {
   "display_name": "Python 3 (ipykernel)",
   "language": "python",
   "name": "python3"
  },
  "language_info": {
   "codemirror_mode": {
    "name": "ipython",
    "version": 3
   },
   "file_extension": ".py",
   "mimetype": "text/x-python",
   "name": "python",
   "nbconvert_exporter": "python",
   "pygments_lexer": "ipython3",
   "version": "3.10.9"
  }
 },
 "nbformat": 4,
 "nbformat_minor": 5
}
