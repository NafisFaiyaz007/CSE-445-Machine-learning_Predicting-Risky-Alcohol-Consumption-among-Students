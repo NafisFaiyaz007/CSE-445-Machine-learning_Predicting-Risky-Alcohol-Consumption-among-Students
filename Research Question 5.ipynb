{
 "cells": [
  {
   "cell_type": "markdown",
   "id": "dafa67c8",
   "metadata": {},
   "source": [
    "## Research question 5\n",
    "Does lack of family support or educational support contribute as a factor to consuming alcohol?\n"
   ]
  },
  {
   "cell_type": "code",
   "execution_count": 1,
   "id": "a9c5ea0c",
   "metadata": {},
   "outputs": [],
   "source": [
    "import pandas as pd\n",
    "import seaborn as sns\n",
    "from matplotlib import pyplot as plt\n",
    "%matplotlib inline\n",
    "\n",
    "from sklearn.metrics import classification_report, accuracy_score, confusion_matrix\n",
    "import scikitplot as skplt\n",
    "\n",
    "from sklearn import set_config\n",
    "set_config(transform_output = \"pandas\")"
   ]
  },
  {
   "cell_type": "markdown",
   "id": "7e086bae",
   "metadata": {},
   "source": [
    "## function to save hq figs"
   ]
  },
  {
   "cell_type": "code",
   "execution_count": 2,
   "id": "cbf0da04",
   "metadata": {},
   "outputs": [],
   "source": [
    "from pathlib import Path\n",
    "IMAGES_PATH = Path() / \"images/question 5\"\n",
    "IMAGES_PATH.mkdir(parents=True, exist_ok=True)\n",
    "\n",
    "def save_fig(fig_id, tight_layout=True, fig_extension=\"png\", resolution=300):\n",
    "    path = IMAGES_PATH / f\"{fig_id}.{fig_extension}\"\n",
    "    if tight_layout:\n",
    "        plt.tight_layout()\n",
    "    plt.savefig(path, format=fig_extension, dpi=resolution)"
   ]
  },
  {
   "cell_type": "code",
   "execution_count": 4,
   "id": "5a4f3038",
   "metadata": {},
   "outputs": [
    {
     "name": "stdout",
     "output_type": "stream",
     "text": [
      "sex_F\n",
      "sex_M\n",
      "famsize_GT3\n",
      "famsize_LE3\n",
      "Pstatus_A\n",
      "Pstatus_T\n",
      "Mjob_at_home\n",
      "Mjob_health\n",
      "Mjob_other\n",
      "Mjob_services\n",
      "Mjob_teacher\n",
      "Fjob_at_home\n",
      "Fjob_health\n",
      "Fjob_other\n",
      "Fjob_services\n",
      "Fjob_teacher\n",
      "guardian_father\n",
      "guardian_mother\n",
      "guardian_other\n",
      "schoolsup_no\n",
      "schoolsup_yes\n",
      "famsup_no\n",
      "famsup_yes\n",
      "paid_no\n",
      "paid_yes\n",
      "activities_no\n",
      "activities_yes\n",
      "higher_no\n",
      "higher_yes\n",
      "romantic_no\n",
      "romantic_yes\n",
      "age\n",
      "Medu\n",
      "Fedu\n",
      "studytime\n",
      "failures\n",
      "famrel\n",
      "freetime\n",
      "goout\n",
      "health\n",
      "absences\n",
      "avg_grade\n",
      "alc\n"
     ]
    }
   ],
   "source": [
    "# Import train and test sets\n",
    "X_train = pd.read_csv('smoteTrainSet.csv')\n",
    "X_test = pd.read_csv('ScaledTestSet.csv')\n",
    "for col in X_test.columns:\n",
    "    print(col)"
   ]
  },
  {
   "cell_type": "code",
   "execution_count": 5,
   "id": "a5418fdd",
   "metadata": {},
   "outputs": [],
   "source": [
    "\n",
    "# Separate target from dataset\n",
    "y_train = X_train['alc']\n",
    "X_train = X_train [['famsup_no', 'schoolsup_no','paid_no', 'higher_no' ]] \n",
    "y_test = X_test['alc']\n",
    "X_test = X_test[['famsup_no', 'schoolsup_no','paid_no', 'higher_no' ]] "
   ]
  },
  {
   "cell_type": "markdown",
   "id": "ff656156",
   "metadata": {},
   "source": [
    "\n",
    "# Separate target from dataset\n",
    "y_train = X_train['alc']\n",
    "X_train = X_train [['famsup_no', '\n",
    "# Separate target from dataset\n",
    "y_train = X_train['alc']\n",
    "X_train = X_train [['famsup_no', 'famsup_yes','schoolsup_no','schoolsup_yes','paid_no','paid_yes','higher_no','higher_yes' ]] \n",
    "y_test = X_test['alc']\n",
    "X_test = X_test[['famsup_no', 'famsup_yes','schoolsup_no','schoolsup_yes','paid_no','paid_yes','higher_no','higher_yes' ]] famsup_yes','schoolsup_no','schoolsup_yes','paid_no','paid_yes','higher_no','higher_yes' ]] \n",
    "y_test = X_test['alc']\n",
    "X_test = X_test[['famsup_no', 'famsup_yes','schoolsup_no','schoolsup_yes','paid_no','paid_yes','higher_no','higher_yes' ]] "
   ]
  },
  {
   "cell_type": "markdown",
   "id": "dda7cd9b",
   "metadata": {},
   "source": [
    "# Separate target from dataset\n",
    "y_train = X_train['alc']\n",
    "#X_train = X_train.drop(columns = ['alc'])\n",
    "X_train = X_train [['famsup_no', 'famsup_yes']] \n",
    "y_test = X_test['alc']\n",
    "X_test = X_test [['famsup_no', 'famsup_yes']]\n",
    "#X_test = X_test.drop(columns = 'alc')"
   ]
  },
  {
   "cell_type": "markdown",
   "id": "67d4e6d2",
   "metadata": {},
   "source": [
    "## ZeroR Classifier"
   ]
  },
  {
   "cell_type": "code",
   "execution_count": 5,
   "id": "76f3ad7e",
   "metadata": {},
   "outputs": [],
   "source": [
    "from sklearn.dummy import DummyClassifier\n",
    "dummy = DummyClassifier(strategy = \"most_frequent\")\n",
    "\n"
   ]
  },
  {
   "cell_type": "code",
   "execution_count": 6,
   "id": "dc91a448",
   "metadata": {},
   "outputs": [
    {
     "data": {
      "text/html": [
       "<style>#sk-container-id-1 {color: black;background-color: white;}#sk-container-id-1 pre{padding: 0;}#sk-container-id-1 div.sk-toggleable {background-color: white;}#sk-container-id-1 label.sk-toggleable__label {cursor: pointer;display: block;width: 100%;margin-bottom: 0;padding: 0.3em;box-sizing: border-box;text-align: center;}#sk-container-id-1 label.sk-toggleable__label-arrow:before {content: \"▸\";float: left;margin-right: 0.25em;color: #696969;}#sk-container-id-1 label.sk-toggleable__label-arrow:hover:before {color: black;}#sk-container-id-1 div.sk-estimator:hover label.sk-toggleable__label-arrow:before {color: black;}#sk-container-id-1 div.sk-toggleable__content {max-height: 0;max-width: 0;overflow: hidden;text-align: left;background-color: #f0f8ff;}#sk-container-id-1 div.sk-toggleable__content pre {margin: 0.2em;color: black;border-radius: 0.25em;background-color: #f0f8ff;}#sk-container-id-1 input.sk-toggleable__control:checked~div.sk-toggleable__content {max-height: 200px;max-width: 100%;overflow: auto;}#sk-container-id-1 input.sk-toggleable__control:checked~label.sk-toggleable__label-arrow:before {content: \"▾\";}#sk-container-id-1 div.sk-estimator input.sk-toggleable__control:checked~label.sk-toggleable__label {background-color: #d4ebff;}#sk-container-id-1 div.sk-label input.sk-toggleable__control:checked~label.sk-toggleable__label {background-color: #d4ebff;}#sk-container-id-1 input.sk-hidden--visually {border: 0;clip: rect(1px 1px 1px 1px);clip: rect(1px, 1px, 1px, 1px);height: 1px;margin: -1px;overflow: hidden;padding: 0;position: absolute;width: 1px;}#sk-container-id-1 div.sk-estimator {font-family: monospace;background-color: #f0f8ff;border: 1px dotted black;border-radius: 0.25em;box-sizing: border-box;margin-bottom: 0.5em;}#sk-container-id-1 div.sk-estimator:hover {background-color: #d4ebff;}#sk-container-id-1 div.sk-parallel-item::after {content: \"\";width: 100%;border-bottom: 1px solid gray;flex-grow: 1;}#sk-container-id-1 div.sk-label:hover label.sk-toggleable__label {background-color: #d4ebff;}#sk-container-id-1 div.sk-serial::before {content: \"\";position: absolute;border-left: 1px solid gray;box-sizing: border-box;top: 0;bottom: 0;left: 50%;z-index: 0;}#sk-container-id-1 div.sk-serial {display: flex;flex-direction: column;align-items: center;background-color: white;padding-right: 0.2em;padding-left: 0.2em;position: relative;}#sk-container-id-1 div.sk-item {position: relative;z-index: 1;}#sk-container-id-1 div.sk-parallel {display: flex;align-items: stretch;justify-content: center;background-color: white;position: relative;}#sk-container-id-1 div.sk-item::before, #sk-container-id-1 div.sk-parallel-item::before {content: \"\";position: absolute;border-left: 1px solid gray;box-sizing: border-box;top: 0;bottom: 0;left: 50%;z-index: -1;}#sk-container-id-1 div.sk-parallel-item {display: flex;flex-direction: column;z-index: 1;position: relative;background-color: white;}#sk-container-id-1 div.sk-parallel-item:first-child::after {align-self: flex-end;width: 50%;}#sk-container-id-1 div.sk-parallel-item:last-child::after {align-self: flex-start;width: 50%;}#sk-container-id-1 div.sk-parallel-item:only-child::after {width: 0;}#sk-container-id-1 div.sk-dashed-wrapped {border: 1px dashed gray;margin: 0 0.4em 0.5em 0.4em;box-sizing: border-box;padding-bottom: 0.4em;background-color: white;}#sk-container-id-1 div.sk-label label {font-family: monospace;font-weight: bold;display: inline-block;line-height: 1.2em;}#sk-container-id-1 div.sk-label-container {text-align: center;}#sk-container-id-1 div.sk-container {/* jupyter's `normalize.less` sets `[hidden] { display: none; }` but bootstrap.min.css set `[hidden] { display: none !important; }` so we also need the `!important` here to be able to override the default hidden behavior on the sphinx rendered scikit-learn.org. See: https://github.com/scikit-learn/scikit-learn/issues/21755 */display: inline-block !important;position: relative;}#sk-container-id-1 div.sk-text-repr-fallback {display: none;}</style><div id=\"sk-container-id-1\" class=\"sk-top-container\"><div class=\"sk-text-repr-fallback\"><pre>DummyClassifier(strategy=&#x27;most_frequent&#x27;)</pre><b>In a Jupyter environment, please rerun this cell to show the HTML representation or trust the notebook. <br />On GitHub, the HTML representation is unable to render, please try loading this page with nbviewer.org.</b></div><div class=\"sk-container\" hidden><div class=\"sk-item\"><div class=\"sk-estimator sk-toggleable\"><input class=\"sk-toggleable__control sk-hidden--visually\" id=\"sk-estimator-id-1\" type=\"checkbox\" checked><label for=\"sk-estimator-id-1\" class=\"sk-toggleable__label sk-toggleable__label-arrow\">DummyClassifier</label><div class=\"sk-toggleable__content\"><pre>DummyClassifier(strategy=&#x27;most_frequent&#x27;)</pre></div></div></div></div></div>"
      ],
      "text/plain": [
       "DummyClassifier(strategy='most_frequent')"
      ]
     },
     "execution_count": 6,
     "metadata": {},
     "output_type": "execute_result"
    }
   ],
   "source": [
    "dummy.fit(X_train,y_train)"
   ]
  },
  {
   "cell_type": "code",
   "execution_count": 7,
   "id": "2eb15f07",
   "metadata": {},
   "outputs": [
    {
     "name": "stdout",
     "output_type": "stream",
     "text": [
      "Train Accuracy 0.5\n",
      "Test Accuracy 0.6076555023923444\n"
     ]
    }
   ],
   "source": [
    "from sklearn.metrics import accuracy_score\n",
    "print('Train Accuracy', accuracy_score(y_train, dummy.predict(X_train)))\n",
    "print('Test Accuracy', accuracy_score(y_test, dummy.predict(X_test)))"
   ]
  },
  {
   "cell_type": "markdown",
   "id": "590f6049",
   "metadata": {},
   "source": [
    "## Hyerparameter Tuning on KNN Classifier"
   ]
  },
  {
   "cell_type": "code",
   "execution_count": 8,
   "id": "585ad259",
   "metadata": {},
   "outputs": [],
   "source": [
    "from sklearn.model_selection import GridSearchCV\n",
    "from sklearn.neighbors import KNeighborsClassifier"
   ]
  },
  {
   "cell_type": "code",
   "execution_count": 9,
   "id": "10c2e5f4",
   "metadata": {},
   "outputs": [],
   "source": [
    "param_grid = {\n",
    "    'n_neighbors' : [5, 10, 25, 50],\n",
    "    'weights' : ['uniform', 'distance']\n",
    "}\n"
   ]
  },
  {
   "cell_type": "code",
   "execution_count": 10,
   "id": "8dbe507a",
   "metadata": {},
   "outputs": [
    {
     "name": "stdout",
     "output_type": "stream",
     "text": [
      "Fitting 10 folds for each of 8 candidates, totalling 80 fits\n"
     ]
    },
    {
     "data": {
      "text/html": [
       "<style>#sk-container-id-2 {color: black;background-color: white;}#sk-container-id-2 pre{padding: 0;}#sk-container-id-2 div.sk-toggleable {background-color: white;}#sk-container-id-2 label.sk-toggleable__label {cursor: pointer;display: block;width: 100%;margin-bottom: 0;padding: 0.3em;box-sizing: border-box;text-align: center;}#sk-container-id-2 label.sk-toggleable__label-arrow:before {content: \"▸\";float: left;margin-right: 0.25em;color: #696969;}#sk-container-id-2 label.sk-toggleable__label-arrow:hover:before {color: black;}#sk-container-id-2 div.sk-estimator:hover label.sk-toggleable__label-arrow:before {color: black;}#sk-container-id-2 div.sk-toggleable__content {max-height: 0;max-width: 0;overflow: hidden;text-align: left;background-color: #f0f8ff;}#sk-container-id-2 div.sk-toggleable__content pre {margin: 0.2em;color: black;border-radius: 0.25em;background-color: #f0f8ff;}#sk-container-id-2 input.sk-toggleable__control:checked~div.sk-toggleable__content {max-height: 200px;max-width: 100%;overflow: auto;}#sk-container-id-2 input.sk-toggleable__control:checked~label.sk-toggleable__label-arrow:before {content: \"▾\";}#sk-container-id-2 div.sk-estimator input.sk-toggleable__control:checked~label.sk-toggleable__label {background-color: #d4ebff;}#sk-container-id-2 div.sk-label input.sk-toggleable__control:checked~label.sk-toggleable__label {background-color: #d4ebff;}#sk-container-id-2 input.sk-hidden--visually {border: 0;clip: rect(1px 1px 1px 1px);clip: rect(1px, 1px, 1px, 1px);height: 1px;margin: -1px;overflow: hidden;padding: 0;position: absolute;width: 1px;}#sk-container-id-2 div.sk-estimator {font-family: monospace;background-color: #f0f8ff;border: 1px dotted black;border-radius: 0.25em;box-sizing: border-box;margin-bottom: 0.5em;}#sk-container-id-2 div.sk-estimator:hover {background-color: #d4ebff;}#sk-container-id-2 div.sk-parallel-item::after {content: \"\";width: 100%;border-bottom: 1px solid gray;flex-grow: 1;}#sk-container-id-2 div.sk-label:hover label.sk-toggleable__label {background-color: #d4ebff;}#sk-container-id-2 div.sk-serial::before {content: \"\";position: absolute;border-left: 1px solid gray;box-sizing: border-box;top: 0;bottom: 0;left: 50%;z-index: 0;}#sk-container-id-2 div.sk-serial {display: flex;flex-direction: column;align-items: center;background-color: white;padding-right: 0.2em;padding-left: 0.2em;position: relative;}#sk-container-id-2 div.sk-item {position: relative;z-index: 1;}#sk-container-id-2 div.sk-parallel {display: flex;align-items: stretch;justify-content: center;background-color: white;position: relative;}#sk-container-id-2 div.sk-item::before, #sk-container-id-2 div.sk-parallel-item::before {content: \"\";position: absolute;border-left: 1px solid gray;box-sizing: border-box;top: 0;bottom: 0;left: 50%;z-index: -1;}#sk-container-id-2 div.sk-parallel-item {display: flex;flex-direction: column;z-index: 1;position: relative;background-color: white;}#sk-container-id-2 div.sk-parallel-item:first-child::after {align-self: flex-end;width: 50%;}#sk-container-id-2 div.sk-parallel-item:last-child::after {align-self: flex-start;width: 50%;}#sk-container-id-2 div.sk-parallel-item:only-child::after {width: 0;}#sk-container-id-2 div.sk-dashed-wrapped {border: 1px dashed gray;margin: 0 0.4em 0.5em 0.4em;box-sizing: border-box;padding-bottom: 0.4em;background-color: white;}#sk-container-id-2 div.sk-label label {font-family: monospace;font-weight: bold;display: inline-block;line-height: 1.2em;}#sk-container-id-2 div.sk-label-container {text-align: center;}#sk-container-id-2 div.sk-container {/* jupyter's `normalize.less` sets `[hidden] { display: none; }` but bootstrap.min.css set `[hidden] { display: none !important; }` so we also need the `!important` here to be able to override the default hidden behavior on the sphinx rendered scikit-learn.org. See: https://github.com/scikit-learn/scikit-learn/issues/21755 */display: inline-block !important;position: relative;}#sk-container-id-2 div.sk-text-repr-fallback {display: none;}</style><div id=\"sk-container-id-2\" class=\"sk-top-container\"><div class=\"sk-text-repr-fallback\"><pre>GridSearchCV(cv=10, estimator=KNeighborsClassifier(), n_jobs=-1,\n",
       "             param_grid={&#x27;n_neighbors&#x27;: [5, 10, 25, 50],\n",
       "                         &#x27;weights&#x27;: [&#x27;uniform&#x27;, &#x27;distance&#x27;]},\n",
       "             verbose=2)</pre><b>In a Jupyter environment, please rerun this cell to show the HTML representation or trust the notebook. <br />On GitHub, the HTML representation is unable to render, please try loading this page with nbviewer.org.</b></div><div class=\"sk-container\" hidden><div class=\"sk-item sk-dashed-wrapped\"><div class=\"sk-label-container\"><div class=\"sk-label sk-toggleable\"><input class=\"sk-toggleable__control sk-hidden--visually\" id=\"sk-estimator-id-2\" type=\"checkbox\" ><label for=\"sk-estimator-id-2\" class=\"sk-toggleable__label sk-toggleable__label-arrow\">GridSearchCV</label><div class=\"sk-toggleable__content\"><pre>GridSearchCV(cv=10, estimator=KNeighborsClassifier(), n_jobs=-1,\n",
       "             param_grid={&#x27;n_neighbors&#x27;: [5, 10, 25, 50],\n",
       "                         &#x27;weights&#x27;: [&#x27;uniform&#x27;, &#x27;distance&#x27;]},\n",
       "             verbose=2)</pre></div></div></div><div class=\"sk-parallel\"><div class=\"sk-parallel-item\"><div class=\"sk-item\"><div class=\"sk-label-container\"><div class=\"sk-label sk-toggleable\"><input class=\"sk-toggleable__control sk-hidden--visually\" id=\"sk-estimator-id-3\" type=\"checkbox\" ><label for=\"sk-estimator-id-3\" class=\"sk-toggleable__label sk-toggleable__label-arrow\">estimator: KNeighborsClassifier</label><div class=\"sk-toggleable__content\"><pre>KNeighborsClassifier()</pre></div></div></div><div class=\"sk-serial\"><div class=\"sk-item\"><div class=\"sk-estimator sk-toggleable\"><input class=\"sk-toggleable__control sk-hidden--visually\" id=\"sk-estimator-id-4\" type=\"checkbox\" ><label for=\"sk-estimator-id-4\" class=\"sk-toggleable__label sk-toggleable__label-arrow\">KNeighborsClassifier</label><div class=\"sk-toggleable__content\"><pre>KNeighborsClassifier()</pre></div></div></div></div></div></div></div></div></div></div>"
      ],
      "text/plain": [
       "GridSearchCV(cv=10, estimator=KNeighborsClassifier(), n_jobs=-1,\n",
       "             param_grid={'n_neighbors': [5, 10, 25, 50],\n",
       "                         'weights': ['uniform', 'distance']},\n",
       "             verbose=2)"
      ]
     },
     "execution_count": 10,
     "metadata": {},
     "output_type": "execute_result"
    }
   ],
   "source": [
    "knn_grid = KNeighborsClassifier()\n",
    "grid_search_knn = GridSearchCV(estimator=knn_grid,param_grid=param_grid,cv=10,n_jobs=-1,verbose=2)\n",
    "grid_search_knn.fit(X_train,y_train)"
   ]
  },
  {
   "cell_type": "code",
   "execution_count": 11,
   "id": "030b907a",
   "metadata": {},
   "outputs": [],
   "source": [
    "best_grid_knn = grid_search_knn.best_estimator_"
   ]
  },
  {
   "cell_type": "code",
   "execution_count": 12,
   "id": "f8be03a1",
   "metadata": {},
   "outputs": [
    {
     "data": {
      "text/html": [
       "<style>#sk-container-id-3 {color: black;background-color: white;}#sk-container-id-3 pre{padding: 0;}#sk-container-id-3 div.sk-toggleable {background-color: white;}#sk-container-id-3 label.sk-toggleable__label {cursor: pointer;display: block;width: 100%;margin-bottom: 0;padding: 0.3em;box-sizing: border-box;text-align: center;}#sk-container-id-3 label.sk-toggleable__label-arrow:before {content: \"▸\";float: left;margin-right: 0.25em;color: #696969;}#sk-container-id-3 label.sk-toggleable__label-arrow:hover:before {color: black;}#sk-container-id-3 div.sk-estimator:hover label.sk-toggleable__label-arrow:before {color: black;}#sk-container-id-3 div.sk-toggleable__content {max-height: 0;max-width: 0;overflow: hidden;text-align: left;background-color: #f0f8ff;}#sk-container-id-3 div.sk-toggleable__content pre {margin: 0.2em;color: black;border-radius: 0.25em;background-color: #f0f8ff;}#sk-container-id-3 input.sk-toggleable__control:checked~div.sk-toggleable__content {max-height: 200px;max-width: 100%;overflow: auto;}#sk-container-id-3 input.sk-toggleable__control:checked~label.sk-toggleable__label-arrow:before {content: \"▾\";}#sk-container-id-3 div.sk-estimator input.sk-toggleable__control:checked~label.sk-toggleable__label {background-color: #d4ebff;}#sk-container-id-3 div.sk-label input.sk-toggleable__control:checked~label.sk-toggleable__label {background-color: #d4ebff;}#sk-container-id-3 input.sk-hidden--visually {border: 0;clip: rect(1px 1px 1px 1px);clip: rect(1px, 1px, 1px, 1px);height: 1px;margin: -1px;overflow: hidden;padding: 0;position: absolute;width: 1px;}#sk-container-id-3 div.sk-estimator {font-family: monospace;background-color: #f0f8ff;border: 1px dotted black;border-radius: 0.25em;box-sizing: border-box;margin-bottom: 0.5em;}#sk-container-id-3 div.sk-estimator:hover {background-color: #d4ebff;}#sk-container-id-3 div.sk-parallel-item::after {content: \"\";width: 100%;border-bottom: 1px solid gray;flex-grow: 1;}#sk-container-id-3 div.sk-label:hover label.sk-toggleable__label {background-color: #d4ebff;}#sk-container-id-3 div.sk-serial::before {content: \"\";position: absolute;border-left: 1px solid gray;box-sizing: border-box;top: 0;bottom: 0;left: 50%;z-index: 0;}#sk-container-id-3 div.sk-serial {display: flex;flex-direction: column;align-items: center;background-color: white;padding-right: 0.2em;padding-left: 0.2em;position: relative;}#sk-container-id-3 div.sk-item {position: relative;z-index: 1;}#sk-container-id-3 div.sk-parallel {display: flex;align-items: stretch;justify-content: center;background-color: white;position: relative;}#sk-container-id-3 div.sk-item::before, #sk-container-id-3 div.sk-parallel-item::before {content: \"\";position: absolute;border-left: 1px solid gray;box-sizing: border-box;top: 0;bottom: 0;left: 50%;z-index: -1;}#sk-container-id-3 div.sk-parallel-item {display: flex;flex-direction: column;z-index: 1;position: relative;background-color: white;}#sk-container-id-3 div.sk-parallel-item:first-child::after {align-self: flex-end;width: 50%;}#sk-container-id-3 div.sk-parallel-item:last-child::after {align-self: flex-start;width: 50%;}#sk-container-id-3 div.sk-parallel-item:only-child::after {width: 0;}#sk-container-id-3 div.sk-dashed-wrapped {border: 1px dashed gray;margin: 0 0.4em 0.5em 0.4em;box-sizing: border-box;padding-bottom: 0.4em;background-color: white;}#sk-container-id-3 div.sk-label label {font-family: monospace;font-weight: bold;display: inline-block;line-height: 1.2em;}#sk-container-id-3 div.sk-label-container {text-align: center;}#sk-container-id-3 div.sk-container {/* jupyter's `normalize.less` sets `[hidden] { display: none; }` but bootstrap.min.css set `[hidden] { display: none !important; }` so we also need the `!important` here to be able to override the default hidden behavior on the sphinx rendered scikit-learn.org. See: https://github.com/scikit-learn/scikit-learn/issues/21755 */display: inline-block !important;position: relative;}#sk-container-id-3 div.sk-text-repr-fallback {display: none;}</style><div id=\"sk-container-id-3\" class=\"sk-top-container\"><div class=\"sk-text-repr-fallback\"><pre>KNeighborsClassifier(n_neighbors=50)</pre><b>In a Jupyter environment, please rerun this cell to show the HTML representation or trust the notebook. <br />On GitHub, the HTML representation is unable to render, please try loading this page with nbviewer.org.</b></div><div class=\"sk-container\" hidden><div class=\"sk-item\"><div class=\"sk-estimator sk-toggleable\"><input class=\"sk-toggleable__control sk-hidden--visually\" id=\"sk-estimator-id-5\" type=\"checkbox\" checked><label for=\"sk-estimator-id-5\" class=\"sk-toggleable__label sk-toggleable__label-arrow\">KNeighborsClassifier</label><div class=\"sk-toggleable__content\"><pre>KNeighborsClassifier(n_neighbors=50)</pre></div></div></div></div></div>"
      ],
      "text/plain": [
       "KNeighborsClassifier(n_neighbors=50)"
      ]
     },
     "execution_count": 12,
     "metadata": {},
     "output_type": "execute_result"
    }
   ],
   "source": [
    "best_grid_knn"
   ]
  },
  {
   "cell_type": "markdown",
   "id": "69d3a7bf",
   "metadata": {},
   "source": [
    "## Applying best estimators in KNN classifiers\n"
   ]
  },
  {
   "cell_type": "code",
   "execution_count": 13,
   "id": "1de4a760",
   "metadata": {},
   "outputs": [
    {
     "name": "stdout",
     "output_type": "stream",
     "text": [
      "[[102  25]\n",
      " [ 58  24]]\n",
      "Accuracy Score 0.6028708133971292\n",
      "Classification report:               precision    recall  f1-score   support\n",
      "\n",
      "         0.0       0.64      0.80      0.71       127\n",
      "         1.0       0.49      0.29      0.37        82\n",
      "\n",
      "    accuracy                           0.60       209\n",
      "   macro avg       0.56      0.55      0.54       209\n",
      "weighted avg       0.58      0.60      0.58       209\n",
      "\n"
     ]
    },
    {
     "data": {
      "image/png": "[encoded data removed]",
      "text/plain": [
       "<Figure size 640x480 with 2 Axes>"
      ]
     },
     "metadata": {},
     "output_type": "display_data"
    }
   ],
   "source": [
    "best_grid_knn.fit(X_train, y_train)\n",
    "y_pred=best_grid_knn.predict(X_test)\n",
    "print(confusion_matrix(y_test,y_pred))\n",
    "skplt.metrics.plot_confusion_matrix(y_test, y_pred);\n",
    "save_fig('Confusion Matrix for KNN hyper-para tuned q5')\n",
    "print(\"Accuracy Score {}\".format(accuracy_score(y_test,y_pred)))\n",
    "print(\"Classification report: {}\".format(classification_report(y_test,y_pred)))"
   ]
  },
  {
   "cell_type": "code",
   "execution_count": 15,
   "id": "6609027e",
   "metadata": {},
   "outputs": [
    {
     "name": "stdout",
     "output_type": "stream",
     "text": [
      "Classification report:               precision    recall  f1-score   support\n",
      "\n",
      "         0.0       0.53      0.82      0.65       446\n",
      "         1.0       0.61      0.29      0.39       446\n",
      "\n",
      "    accuracy                           0.55       892\n",
      "   macro avg       0.57      0.55      0.52       892\n",
      "weighted avg       0.57      0.55      0.52       892\n",
      "\n",
      "[CV] END .....................n_neighbors=5, weights=uniform; total time=   0.0s\n",
      "[CV] END ....................n_neighbors=5, weights=distance; total time=   0.0s\n",
      "[CV] END ....................n_neighbors=5, weights=distance; total time=   0.0s\n",
      "[CV] END ....................n_neighbors=10, weights=uniform; total time=   0.0s\n",
      "[CV] END ....................n_neighbors=10, weights=uniform; total time=   0.0s\n",
      "[CV] END ...................n_neighbors=10, weights=distance; total time=   0.0s\n",
      "[CV] END ...................n_neighbors=10, weights=distance; total time=   0.0s\n",
      "[CV] END ...................n_neighbors=10, weights=distance; total time=   0.0s\n",
      "[CV] END ....................n_neighbors=25, weights=uniform; total time=   0.0s\n",
      "[CV] END ....................n_neighbors=25, weights=uniform; total time=   0.0s\n",
      "[CV] END ....................n_neighbors=25, weights=uniform; total time=   0.0s\n",
      "[CV] END ....................n_neighbors=50, weights=uniform; total time=   0.0s\n",
      "[CV] END ....................n_neighbors=50, weights=uniform; total time=   0.0s\n",
      "[CV] END .....................n_neighbors=5, weights=uniform; total time=   0.0s\n",
      "[CV] END .....................n_neighbors=5, weights=uniform; total time=   0.0s\n",
      "[CV] END .....................n_neighbors=5, weights=uniform; total time=   0.0s\n",
      "[CV] END ....................n_neighbors=5, weights=distance; total time=   0.0s\n",
      "[CV] END ....................n_neighbors=5, weights=distance; total time=   0.0s\n",
      "[CV] END ....................n_neighbors=5, weights=distance; total time=   0.0s\n",
      "[CV] END ....................n_neighbors=10, weights=uniform; total time=   0.0s\n",
      "[CV] END ....................n_neighbors=10, weights=uniform; total time=   0.0s\n",
      "[CV] END ...................n_neighbors=10, weights=distance; total time=   0.0s\n",
      "[CV] END ...................n_neighbors=25, weights=distance; total time=   0.0s\n",
      "[CV] END ...................n_neighbors=25, weights=distance; total time=   0.0s\n",
      "[CV] END ...................n_neighbors=50, weights=distance; total time=   0.0s\n",
      "[CV] END ...................n_neighbors=50, weights=distance; total time=   0.0s\n",
      "[CV] END .....................n_neighbors=5, weights=uniform; total time=   0.0s\n",
      "[CV] END ....................n_neighbors=25, weights=uniform; total time=   0.0s\n",
      "[CV] END ....................n_neighbors=25, weights=uniform; total time=   0.0s\n",
      "[CV] END ...................n_neighbors=25, weights=distance; total time=   0.0s\n",
      "[CV] END ...................n_neighbors=25, weights=distance; total time=   0.0s\n",
      "[CV] END ...................n_neighbors=50, weights=distance; total time=   0.0s\n",
      "[CV] END ...................n_neighbors=50, weights=distance; total time=   0.0s\n",
      "[CV] END .....................n_neighbors=5, weights=uniform; total time=   0.0s\n",
      "[CV] END ....................n_neighbors=5, weights=distance; total time=   0.0s\n",
      "[CV] END ....................n_neighbors=10, weights=uniform; total time=   0.0s\n",
      "[CV] END ....................n_neighbors=10, weights=uniform; total time=   0.0s\n",
      "[CV] END ...................n_neighbors=10, weights=distance; total time=   0.0s\n",
      "[CV] END ...................n_neighbors=10, weights=distance; total time=   0.0s\n",
      "[CV] END ....................n_neighbors=25, weights=uniform; total time=   0.0s\n",
      "[CV] END ...................n_neighbors=25, weights=distance; total time=   0.0s\n",
      "[CV] END ...................n_neighbors=25, weights=distance; total time=   0.0s\n",
      "[CV] END ...................n_neighbors=25, weights=distance; total time=   0.0s\n",
      "[CV] END ...................n_neighbors=25, weights=distance; total time=   0.0s\n",
      "[CV] END ....................n_neighbors=50, weights=uniform; total time=   0.0s\n",
      "[CV] END ....................n_neighbors=50, weights=uniform; total time=   0.0s\n",
      "[CV] END ...................n_neighbors=50, weights=distance; total time=   0.0s\n",
      "[CV] END ...................n_neighbors=50, weights=distance; total time=   0.0s\n",
      "[CV] END .....................n_neighbors=5, weights=uniform; total time=   0.0s\n",
      "[CV] END ....................n_neighbors=50, weights=uniform; total time=   0.0s\n",
      "[CV] END ....................n_neighbors=50, weights=uniform; total time=   0.0s\n",
      "[CV] END .....................n_neighbors=5, weights=uniform; total time=   0.0s\n",
      "[CV] END ....................n_neighbors=5, weights=distance; total time=   0.0s\n",
      "[CV] END ....................n_neighbors=5, weights=distance; total time=   0.0s\n",
      "[CV] END ....................n_neighbors=10, weights=uniform; total time=   0.0s\n",
      "[CV] END ....................n_neighbors=10, weights=uniform; total time=   0.0s\n",
      "[CV] END ...................n_neighbors=10, weights=distance; total time=   0.0s\n",
      "[CV] END ...................n_neighbors=10, weights=distance; total time=   0.0s\n",
      "[CV] END ....................n_neighbors=25, weights=uniform; total time=   0.0s\n",
      "[CV] END ...................n_neighbors=25, weights=distance; total time=   0.0s\n",
      "[CV] END ...................n_neighbors=25, weights=distance; total time=   0.0s\n",
      "[CV] END ....................n_neighbors=50, weights=uniform; total time=   0.0s\n",
      "[CV] END ....................n_neighbors=50, weights=uniform; total time=   0.0s\n",
      "[CV] END ...................n_neighbors=50, weights=distance; total time=   0.0s\n",
      "[CV] END ...................n_neighbors=50, weights=distance; total time=   0.0s\n",
      "[CV] END .....................n_neighbors=5, weights=uniform; total time=   0.0s\n",
      "[CV] END .....................n_neighbors=5, weights=uniform; total time=   0.0s\n",
      "[CV] END ....................n_neighbors=5, weights=distance; total time=   0.0s\n",
      "[CV] END ....................n_neighbors=5, weights=distance; total time=   0.0s\n",
      "[CV] END ....................n_neighbors=10, weights=uniform; total time=   0.0s\n",
      "[CV] END ....................n_neighbors=10, weights=uniform; total time=   0.0s\n",
      "[CV] END ...................n_neighbors=10, weights=distance; total time=   0.0s\n",
      "[CV] END ...................n_neighbors=10, weights=distance; total time=   0.0s\n",
      "[CV] END ....................n_neighbors=25, weights=uniform; total time=   0.0s\n",
      "[CV] END ....................n_neighbors=25, weights=uniform; total time=   0.0s\n",
      "[CV] END ....................n_neighbors=25, weights=uniform; total time=   0.0s\n",
      "[CV] END ....................n_neighbors=50, weights=uniform; total time=   0.0s\n",
      "[CV] END ....................n_neighbors=50, weights=uniform; total time=   0.0s\n",
      "[CV] END ...................n_neighbors=50, weights=distance; total time=   0.0s\n",
      "[CV] END ...................n_neighbors=50, weights=distance; total time=   0.0s\n"
     ]
    }
   ],
   "source": [
    "print(\"Classification report: {}\".format(classification_report(y_train,best_grid_knn.predict(X_train))))"
   ]
  },
  {
   "cell_type": "code",
   "execution_count": 14,
   "id": "67692ac4",
   "metadata": {},
   "outputs": [
    {
     "data": {
      "text/html": [
       "<div>\n",
       "<style scoped>\n",
       "    .dataframe tbody tr th:only-of-type {\n",
       "        vertical-align: middle;\n",
       "    }\n",
       "\n",
       "    .dataframe tbody tr th {\n",
       "        vertical-align: top;\n",
       "    }\n",
       "\n",
       "    .dataframe thead th {\n",
       "        text-align: right;\n",
       "    }\n",
       "</style>\n",
       "<table border=\"1\" class=\"dataframe\">\n",
       "  <thead>\n",
       "    <tr style=\"text-align: right;\">\n",
       "      <th></th>\n",
       "      <th>y_test</th>\n",
       "      <th>y_pred</th>\n",
       "    </tr>\n",
       "  </thead>\n",
       "  <tbody>\n",
       "    <tr>\n",
       "      <th>0</th>\n",
       "      <td>1.0</td>\n",
       "      <td>1.0</td>\n",
       "    </tr>\n",
       "    <tr>\n",
       "      <th>1</th>\n",
       "      <td>1.0</td>\n",
       "      <td>0.0</td>\n",
       "    </tr>\n",
       "    <tr>\n",
       "      <th>2</th>\n",
       "      <td>1.0</td>\n",
       "      <td>0.0</td>\n",
       "    </tr>\n",
       "    <tr>\n",
       "      <th>3</th>\n",
       "      <td>1.0</td>\n",
       "      <td>1.0</td>\n",
       "    </tr>\n",
       "    <tr>\n",
       "      <th>4</th>\n",
       "      <td>0.0</td>\n",
       "      <td>0.0</td>\n",
       "    </tr>\n",
       "    <tr>\n",
       "      <th>...</th>\n",
       "      <td>...</td>\n",
       "      <td>...</td>\n",
       "    </tr>\n",
       "    <tr>\n",
       "      <th>204</th>\n",
       "      <td>0.0</td>\n",
       "      <td>0.0</td>\n",
       "    </tr>\n",
       "    <tr>\n",
       "      <th>205</th>\n",
       "      <td>0.0</td>\n",
       "      <td>1.0</td>\n",
       "    </tr>\n",
       "    <tr>\n",
       "      <th>206</th>\n",
       "      <td>0.0</td>\n",
       "      <td>0.0</td>\n",
       "    </tr>\n",
       "    <tr>\n",
       "      <th>207</th>\n",
       "      <td>0.0</td>\n",
       "      <td>0.0</td>\n",
       "    </tr>\n",
       "    <tr>\n",
       "      <th>208</th>\n",
       "      <td>0.0</td>\n",
       "      <td>0.0</td>\n",
       "    </tr>\n",
       "  </tbody>\n",
       "</table>\n",
       "<p>209 rows × 2 columns</p>\n",
       "</div>"
      ],
      "text/plain": [
       "     y_test  y_pred\n",
       "0       1.0     1.0\n",
       "1       1.0     0.0\n",
       "2       1.0     0.0\n",
       "3       1.0     1.0\n",
       "4       0.0     0.0\n",
       "..      ...     ...\n",
       "204     0.0     0.0\n",
       "205     0.0     1.0\n",
       "206     0.0     0.0\n",
       "207     0.0     0.0\n",
       "208     0.0     0.0\n",
       "\n",
       "[209 rows x 2 columns]"
      ]
     },
     "execution_count": 14,
     "metadata": {},
     "output_type": "execute_result"
    }
   ],
   "source": [
    "pd.DataFrame({'y_test': y_test, 'y_pred': y_pred})"
   ]
  },
  {
   "cell_type": "markdown",
   "id": "1d956af2",
   "metadata": {},
   "source": [
    "## Hyperparameter tuning on Decision Tree"
   ]
  },
  {
   "cell_type": "code",
   "execution_count": null,
   "id": "2f7143c6",
   "metadata": {},
   "outputs": [],
   "source": [
    "from sklearn import tree\n",
    "from sklearn.tree import DecisionTreeClassifier"
   ]
  },
  {
   "cell_type": "code",
   "execution_count": null,
   "id": "174fe825",
   "metadata": {},
   "outputs": [],
   "source": [
    "param_grid = {\n",
    "    'criterion' : ['gini', 'entropy', 'log_loss'],\n",
    "    'splitter' : ['best', 'random'],\n",
    "    'max_depth' : [5, 10, 15, 30],\n",
    "}"
   ]
  },
  {
   "cell_type": "code",
   "execution_count": null,
   "id": "628fd3b7",
   "metadata": {},
   "outputs": [],
   "source": [
    "dt_grid = DecisionTreeClassifier()\n",
    "grid_search_dt = GridSearchCV(estimator=dt_grid,param_grid=param_grid,cv=10,n_jobs=-1,verbose=2)\n",
    "grid_search_dt.fit(X_train,y_train)"
   ]
  },
  {
   "cell_type": "code",
   "execution_count": null,
   "id": "e329badd",
   "metadata": {},
   "outputs": [],
   "source": [
    "best_grid_dt = grid_search_dt.best_estimator_\n",
    "best_grid_dt"
   ]
  },
  {
   "cell_type": "markdown",
   "id": "63c8cc8e",
   "metadata": {},
   "source": [
    "## Appying best estimators on Decision Tree"
   ]
  },
  {
   "cell_type": "code",
   "execution_count": null,
   "id": "4cbedca1",
   "metadata": {},
   "outputs": [],
   "source": [
    "best_grid_dt.fit(X_train, y_train)\n",
    "y_pred=best_grid_dt.predict(X_test)\n",
    "print(confusion_matrix(y_test,y_pred))\n",
    "skplt.metrics.plot_confusion_matrix(y_test, y_pred);\n",
    "save_fig('Confusion Matrix for Descision_Tree hyper-para tuned q5')\n",
    "print(\"Accuracy Score {}\".format(accuracy_score(y_test,y_pred)))\n",
    "print(\"Classification report: \\n{}\".format(classification_report(y_test,y_pred)))"
   ]
  },
  {
   "cell_type": "code",
   "execution_count": null,
   "id": "98dc6c63",
   "metadata": {},
   "outputs": [],
   "source": [
    "fig = plt.figure(figsize=(25,20))\n",
    "_ = tree.plot_tree(best_grid_dt, \n",
    "                   feature_names=X_train.columns.values.tolist(),  \n",
    "                   class_names=y_train.name,\n",
    "                   filled=True)"
   ]
  },
  {
   "cell_type": "code",
   "execution_count": null,
   "id": "745dd4e2",
   "metadata": {},
   "outputs": [],
   "source": [
    "fig.savefig(\"decistion_tree.png\")"
   ]
  },
  {
   "cell_type": "code",
   "execution_count": null,
   "id": "a93292b6",
   "metadata": {},
   "outputs": [],
   "source": [
    "train_acc = []\n",
    "test_acc = []\n",
    "max_depth =[]\n",
    "\n",
    "for depth in range(1, 30):\n",
    "    clf = DecisionTreeClassifier(max_depth = depth)\n",
    "    clf.fit(X_train, y_train)\n",
    "    train_acc.append(accuracy_score(y_train, clf.predict(X_train)).round(3))\n",
    "    test_acc.append(accuracy_score(y_test, clf.predict(X_test)).round(3))\n",
    "    max_depth.append(depth)\n",
    "\n",
    "for i in range(1, 30):\n",
    "    print('Max Depth = ', i, ', Train Acc. = ', train_acc[i-1], ', Test Acc. = ' ,\n",
    "         test_acc[i-1])\n",
    "\n",
    "plt.figure(figsize = (8,6))\n",
    "plt.xlabel('Max-Depth')\n",
    "plt.ylabel('Accuracy')\n",
    "plt.title('Variation of Accuracy with Max-Depth')\n",
    "plt.plot(max_depth, train_acc, color = 'blue', linewidth = 1,\n",
    "         label = 'train accuracy');\n",
    "\n",
    "plt.plot(max_depth, test_acc, color = 'red', linewidth = 2,\n",
    "         label = 'test accuracy')\n",
    "plt.legend()\n",
    "save_fig('Accuracy against max_depth')\n",
    "plt.show();"
   ]
  },
  {
   "cell_type": "code",
   "execution_count": null,
   "id": "cd1186b7",
   "metadata": {},
   "outputs": [],
   "source": [
    "# Confusion matrix for train set\n",
    "print(\"Confusion Matrix for Train Set\")\n",
    "pd. DataFrame (confusion_matrix(y_train, best_grid_dt.predict(X_train)))"
   ]
  },
  {
   "cell_type": "code",
   "execution_count": null,
   "id": "816d9acf",
   "metadata": {},
   "outputs": [],
   "source": [
    "# Confusion matrix for test set\n",
    "print(\"Confusion Matrix for Test Set\")\n",
    "pd. DataFrame (confusion_matrix(y_test, best_grid_dt.predict(X_test)))"
   ]
  },
  {
   "cell_type": "code",
   "execution_count": null,
   "id": "12cff971",
   "metadata": {},
   "outputs": [],
   "source": [
    "print(\"Classification Report for Train Set\")\n",
    "print(classification_report (y_train, best_grid_dt.predict(X_train).round (3)))"
   ]
  },
  {
   "cell_type": "code",
   "execution_count": null,
   "id": "accec514",
   "metadata": {},
   "outputs": [],
   "source": [
    "print(\"Classification Report for Test Set\")\n",
    "print(classification_report(y_test, best_grid_dt.predict (X_test). round(3)))"
   ]
  },
  {
   "cell_type": "markdown",
   "id": "d558c8a5",
   "metadata": {},
   "source": [
    "## Hyperparameter Tuning on Random Forest"
   ]
  },
  {
   "cell_type": "code",
   "execution_count": null,
   "id": "0f8e47e5",
   "metadata": {},
   "outputs": [],
   "source": [
    "from sklearn.ensemble import RandomForestClassifier\n",
    "from sklearn.model_selection import GridSearchCV\n"
   ]
  },
  {
   "cell_type": "code",
   "execution_count": null,
   "id": "e4b1ce6c",
   "metadata": {},
   "outputs": [],
   "source": [
    "param_grid= {\n",
    "    'n_estimators': [10, 50, 100],\n",
    "    'criterion': ['gini', 'entropy', 'log_loss'],\n",
    "    'max_depth': [None, 10, 30, 100],\n",
    "    'max_features': [None, 'sqrt', 'log2']\n",
    "}"
   ]
  },
  {
   "cell_type": "code",
   "execution_count": null,
   "id": "f231d62f",
   "metadata": {},
   "outputs": [],
   "source": [
    "rf_grid = RandomForestClassifier()\n",
    "grid_search_rf = GridSearchCV(estimator=rf_grid,param_grid=param_grid,cv=10,n_jobs=-1,verbose=2)\n",
    "grid_search_rf.fit(X_train,y_train)"
   ]
  },
  {
   "cell_type": "code",
   "execution_count": null,
   "id": "941d694d",
   "metadata": {},
   "outputs": [],
   "source": [
    "# Finding out the best estimator\n",
    "best_grid_rf = grid_search_rf.best_estimator_\n",
    "best_grid_rf"
   ]
  },
  {
   "cell_type": "code",
   "execution_count": null,
   "id": "e70a9512",
   "metadata": {},
   "outputs": [],
   "source": [
    "best_grid_rf.fit(X_train, y_train)"
   ]
  },
  {
   "cell_type": "code",
   "execution_count": null,
   "id": "5bd19ab6",
   "metadata": {
    "scrolled": true
   },
   "outputs": [],
   "source": [
    "best_grid_rf.predict(X_test)\n",
    "print(confusion_matrix(y_test,best_grid_rf.predict(X_test)))\n",
    "print(\"Accuracy Score {}\".format(accuracy_score(y_test,best_grid_rf.predict(X_test))))\n",
    "print(\"Classification report: \\n{}\".format(classification_report(y_test,best_grid_rf.predict(X_test))))"
   ]
  },
  {
   "cell_type": "code",
   "execution_count": null,
   "id": "fdc40880",
   "metadata": {
    "scrolled": true
   },
   "outputs": [],
   "source": [
    "skplt.metrics.plot_confusion_matrix(y_test, best_grid_rf.predict(X_test));\n",
    "save_fig('Confusion Matrix for Random forest hyper-para tuned q5')"
   ]
  },
  {
   "cell_type": "markdown",
   "id": "dfc6daff",
   "metadata": {},
   "source": [
    "## Hyperparameter TUning on Logistic Regression"
   ]
  },
  {
   "cell_type": "code",
   "execution_count": null,
   "id": "93fc6c11",
   "metadata": {},
   "outputs": [],
   "source": [
    "from sklearn.linear_model import LogisticRegression"
   ]
  },
  {
   "cell_type": "code",
   "execution_count": null,
   "id": "c3dc312a",
   "metadata": {},
   "outputs": [],
   "source": [
    "param_grid = {\n",
    "    'penalty' : ['l1', 'l2', 'elasticnet', None],\n",
    "    'random_state' : ['42', None],\n",
    "    'solver' : ['lbfgs', 'liblinear', 'newton-cg', 'newton-cholesky', 'sag', 'saga']\n",
    "}"
   ]
  },
  {
   "cell_type": "code",
   "execution_count": null,
   "id": "0936b7df",
   "metadata": {},
   "outputs": [],
   "source": [
    "lr_grid = LogisticRegression()\n",
    "grid_search_lr = GridSearchCV(estimator=lr_grid,param_grid=param_grid,cv=10,n_jobs=-1,verbose=2)\n",
    "grid_search_lr.fit(X_train,y_train)"
   ]
  },
  {
   "cell_type": "code",
   "execution_count": null,
   "id": "2f1daeba",
   "metadata": {},
   "outputs": [],
   "source": [
    "best_grid_lr = grid_search_lr.best_estimator_\n",
    "best_grid_lr"
   ]
  },
  {
   "cell_type": "code",
   "execution_count": null,
   "id": "c041527e",
   "metadata": {},
   "outputs": [],
   "source": [
    "# Applying the best grid for logistic regression\n",
    "best_grid_lr.fit(X_train, y_train)\n",
    "y_pred=best_grid_lr.predict(X_test)\n",
    "print(confusion_matrix(y_test,y_pred))\n",
    "skplt.metrics.plot_confusion_matrix(y_test, y_pred);\n",
    "save_fig('Confusion Matrix for Logistic Regression hyper-para tuned q5')\n",
    "print(\"Accuracy Score {}\".format(accuracy_score(y_test,y_pred)))\n",
    "print(\"Classification report: \\n{}\".format(classification_report(y_test,y_pred)))"
   ]
  },
  {
   "cell_type": "markdown",
   "id": "bb6ff8d7",
   "metadata": {},
   "source": [
    "## Hyperparameter Tuning on SVM"
   ]
  },
  {
   "cell_type": "code",
   "execution_count": null,
   "id": "c61ca39a",
   "metadata": {},
   "outputs": [],
   "source": [
    "from sklearn.svm import SVC"
   ]
  },
  {
   "cell_type": "code",
   "execution_count": null,
   "id": "3f68123d",
   "metadata": {},
   "outputs": [],
   "source": [
    "param_grid = {\n",
    "    'kernel' : ['linear', 'poly', 'rbf', 'sigmoid'],\n",
    "    'random_state' : [42, None],\n",
    "    'gamma' : ['scale', 'auto'],\n",
    "    'shrinking' : [True, False],\n",
    "    'probability' : [True, False],\n",
    "    'decision_function_shape' : ['ovo', 'ovr'],\n",
    "    'break_ties' : [True, False]\n",
    "}"
   ]
  },
  {
   "cell_type": "code",
   "execution_count": null,
   "id": "10c93575",
   "metadata": {},
   "outputs": [],
   "source": [
    "svc_grid = SVC()\n",
    "grid_search_svc = GridSearchCV(estimator=svc_grid,param_grid=param_grid,cv=10,n_jobs=-1,verbose=2)\n",
    "grid_search_svc.fit(X_train,y_train)"
   ]
  },
  {
   "cell_type": "code",
   "execution_count": null,
   "id": "60bbc4f2",
   "metadata": {},
   "outputs": [],
   "source": [
    "best_grid_svc = grid_search_svc.best_estimator_\n",
    "best_grid_svc"
   ]
  },
  {
   "cell_type": "code",
   "execution_count": null,
   "id": "0487eb7f",
   "metadata": {},
   "outputs": [],
   "source": [
    "# Applying the best grid for SVC\n",
    "best_grid_svc.fit(X_train, y_train)\n",
    "y_pred=best_grid_svc.predict(X_test)\n",
    "print(confusion_matrix(y_test,y_pred))\n",
    "skplt.metrics.plot_confusion_matrix(y_test, y_pred);\n",
    "save_fig('Confusion Matrix for SVC hyper-para tuned q5')\n",
    "print(\"Accuracy Score {}\".format(accuracy_score(y_test,y_pred)))\n",
    "print(\"Classification report: \\n{}\".format(classification_report(y_test,y_pred)))"
   ]
  },
  {
   "cell_type": "markdown",
   "id": "5e8ce5a6",
   "metadata": {},
   "source": [
    "## Hyperparameter Tuning on Multinomial Naive Bayes"
   ]
  },
  {
   "cell_type": "code",
   "execution_count": null,
   "id": "f5e0565f",
   "metadata": {},
   "outputs": [],
   "source": [
    "from  sklearn.naive_bayes import MultinomialNB"
   ]
  },
  {
   "cell_type": "code",
   "execution_count": null,
   "id": "86c754f3",
   "metadata": {},
   "outputs": [],
   "source": [
    "param_grid = {\n",
    "    'alpha': [0.01, 0.1, 0.5, 1.0, 10.0, ],\n",
    "    'fit_prior': [True, False]\n",
    "}"
   ]
  },
  {
   "cell_type": "code",
   "execution_count": null,
   "id": "f1df6205",
   "metadata": {},
   "outputs": [],
   "source": [
    "nb_grid = MultinomialNB()\n",
    "grid_search_nb = GridSearchCV(estimator=nb_grid,param_grid=param_grid,cv=10,n_jobs=-1,verbose=2)\n",
    "grid_search_nb.fit(X_train,y_train)"
   ]
  },
  {
   "cell_type": "code",
   "execution_count": null,
   "id": "340bc93c",
   "metadata": {},
   "outputs": [],
   "source": [
    "best_grid_nb = grid_search_nb.best_estimator_\n",
    "best_grid_nb"
   ]
  },
  {
   "cell_type": "code",
   "execution_count": null,
   "id": "f7018a30",
   "metadata": {},
   "outputs": [],
   "source": [
    "# Applying the best grid for Multinomial Naive Bayes\n",
    "best_grid_nb.fit(X_train, y_train)\n",
    "y_pred=best_grid_nb.predict(X_test)\n",
    "print(confusion_matrix(y_test,y_pred))\n",
    "skplt.metrics.plot_confusion_matrix(y_test, y_pred);\n",
    "save_fig('Confusion Matrix for MultinomialNB hyper-para tuned q5')\n",
    "print(\"Accuracy Score {}\".format(accuracy_score(y_test,y_pred)))\n",
    "print(\"Classification report: \\n{}\".format(classification_report(y_test,y_pred)))"
   ]
  },
  {
   "cell_type": "markdown",
   "id": "f4a1e86b",
   "metadata": {},
   "source": [
    "## Ensembling learning"
   ]
  },
  {
   "cell_type": "code",
   "execution_count": null,
   "id": "63160774",
   "metadata": {},
   "outputs": [],
   "source": [
    "import matplotlib.pyplot as plt\n",
    "\n",
    "plt.rc('font', size=14)\n",
    "plt.rc('axes', labelsize=14, titlesize=14)\n",
    "plt.rc('legend', fontsize=14)\n",
    "plt.rc('xtick', labelsize=10)\n",
    "plt.rc('ytick', labelsize=10)"
   ]
  },
  {
   "cell_type": "markdown",
   "id": "e65931bc",
   "metadata": {},
   "source": [
    "## HArd voting classifier"
   ]
  },
  {
   "cell_type": "code",
   "execution_count": null,
   "id": "c9219831",
   "metadata": {},
   "outputs": [],
   "source": [
    "from sklearn.ensemble import RandomForestClassifier, VotingClassifier\n",
    "from sklearn.linear_model import LogisticRegression\n",
    "from sklearn.svm import SVC"
   ]
  },
  {
   "cell_type": "code",
   "execution_count": null,
   "id": "3ede7761",
   "metadata": {},
   "outputs": [],
   "source": [
    "hard_voting_clf = VotingClassifier(\n",
    "    estimators=[\n",
    "        ('knn', best_grid_knn),\n",
    "        ('dt', best_grid_dt),\n",
    "        ('lr', best_grid_lr),\n",
    "        ('rf', best_grid_rf),\n",
    "        ('svc', best_grid_svc),\n",
    "        ('nb', best_grid_nb)\n",
    "    ], \n",
    "    voting = 'hard'\n",
    ")\n",
    "hard_voting_clf.fit(X_train, y_train)"
   ]
  },
  {
   "cell_type": "code",
   "execution_count": null,
   "id": "f9c27b15",
   "metadata": {},
   "outputs": [],
   "source": [
    "from sklearn.metrics import accuracy_score\n",
    "for clf in [best_grid_knn, best_grid_dt, best_grid_lr, best_grid_rf, best_grid_svc, best_grid_nb, hard_voting_clf]:\n",
    "    clf.fit(X_train, y_train)\n",
    "    y_pred = clf.predict(X_test)\n",
    "    print(clf.__class__.__name__, accuracy_score(y_test, y_pred))"
   ]
  },
  {
   "cell_type": "code",
   "execution_count": null,
   "id": "487481b2",
   "metadata": {},
   "outputs": [],
   "source": [
    "skplt.metrics.plot_confusion_matrix(y_test, hard_voting_clf.predict(X_test));\n",
    "save_fig('Confusion Matrix for Ensemble Hard Voting q5')\n",
    "print(\"Accuracy Score {}\".format(accuracy_score(y_test, hard_voting_clf.predict(X_test))))\n",
    "print(\"Classification report: \\n{}\".format(classification_report(y_test, hard_voting_clf.predict(X_test))))"
   ]
  },
  {
   "cell_type": "markdown",
   "id": "2f6b6fc4",
   "metadata": {},
   "source": [
    "## Soft voting classifier"
   ]
  },
  {
   "cell_type": "code",
   "execution_count": null,
   "id": "f231fd57",
   "metadata": {},
   "outputs": [],
   "source": [
    "soft_voting_clf = VotingClassifier(\n",
    "    estimators=[\n",
    "        ('knn', best_grid_knn),\n",
    "        ('dt', best_grid_dt),\n",
    "        ('lr', best_grid_lr),\n",
    "        ('rf', best_grid_rf),\n",
    "        ('svc', best_grid_svc),\n",
    "        ('nb', best_grid_nb)\n",
    "    ], \n",
    "    voting = 'soft'\n",
    ")\n",
    "soft_voting_clf.fit(X_train, y_train)"
   ]
  },
  {
   "cell_type": "code",
   "execution_count": null,
   "id": "693cc8ff",
   "metadata": {
    "scrolled": true
   },
   "outputs": [],
   "source": [
    "from sklearn.metrics import accuracy_score\n",
    "for clf in [best_grid_knn, best_grid_dt, best_grid_lr, best_grid_rf, best_grid_svc, best_grid_nb, soft_voting_clf]:\n",
    "    clf.fit(X_train, y_train)\n",
    "    y_pred = clf.predict(X_test)\n",
    "    print(clf.__class__.__name__, accuracy_score(y_test, y_pred))"
   ]
  },
  {
   "cell_type": "code",
   "execution_count": null,
   "id": "567b38a1",
   "metadata": {},
   "outputs": [],
   "source": [
    "skplt.metrics.plot_confusion_matrix(y_test, soft_voting_clf.predict(X_test));\n",
    "save_fig('Confusion Matrix for Ensemble Soft Voting q5')\n",
    "print(\"Accuracy Score {}\".format(accuracy_score(y_test, soft_voting_clf.predict(X_test))))\n",
    "print(\"Classification report: \\n{}\".format(classification_report(y_test, soft_voting_clf.predict(X_test))))"
   ]
  },
  {
   "cell_type": "markdown",
   "id": "28e3fe2f",
   "metadata": {},
   "source": [
    "## bagging and pasting"
   ]
  },
  {
   "cell_type": "code",
   "execution_count": null,
   "id": "a98763ea",
   "metadata": {},
   "outputs": [],
   "source": [
    "from sklearn.ensemble import BaggingClassifier\n",
    "from sklearn.tree import DecisionTreeClassifier\n",
    "\n",
    "bag_clf = BaggingClassifier(DecisionTreeClassifier(), n_estimators=500,\n",
    "                            max_samples=100, n_jobs=-1, random_state=42)\n",
    "bag_clf.fit(X_train, y_train)"
   ]
  },
  {
   "cell_type": "markdown",
   "id": "e13a4dd2",
   "metadata": {},
   "source": [
    "## out of bag evaluation"
   ]
  },
  {
   "cell_type": "code",
   "execution_count": null,
   "id": "32ff440a",
   "metadata": {},
   "outputs": [],
   "source": [
    "bag_clf = BaggingClassifier(DecisionTreeClassifier(), n_estimators=500,\n",
    "                            oob_score=True, n_jobs=-1, random_state=42)\n",
    "bag_clf.fit(X_train, y_train)\n",
    "print('OOB Score', bag_clf.oob_score_)\n",
    "\n",
    "y_pred = bag_clf.predict(X_test)\n",
    "print('Test Accuracy', accuracy_score(y_test, y_pred))"
   ]
  },
  {
   "cell_type": "code",
   "execution_count": null,
   "id": "0585e94f",
   "metadata": {},
   "outputs": [],
   "source": [
    "skplt.metrics.plot_confusion_matrix(y_test, bag_clf.predict(X_test));\n",
    "save_fig('Confusion Matrix for Out of bag q5')\n",
    "print(\"Accuracy Score {}\".format(accuracy_score(y_test, bag_clf.predict(X_test))))\n",
    "print(\"Classification report: \\n{}\".format(classification_report(y_test, bag_clf.predict(X_test))))"
   ]
  },
  {
   "cell_type": "markdown",
   "id": "8c51ac69",
   "metadata": {},
   "source": [
    "## impact of no. of estimators"
   ]
  },
  {
   "cell_type": "code",
   "execution_count": null,
   "id": "f8ba49a8",
   "metadata": {},
   "outputs": [],
   "source": [
    "import numpy as np\n",
    "est = range(50, 500, 50)\n",
    "train_acc = []\n",
    "test_acc = []\n",
    "oob_acc = []\n",
    "estim = []\n",
    "out = []\n",
    "for num_est in est:\n",
    "    estim.append(num_est)\n",
    "    rnd_clf = RandomForestClassifier(n_estimators=num_est, oob_score = True, \n",
    "                                     max_leaf_nodes=16, n_jobs=-1, \n",
    "                                     random_state=42)\n",
    "    rnd_clf.fit(X_train, y_train)\n",
    "    y_pred_rf = rnd_clf.predict(X_test)\n",
    "    train_acc.append(\n",
    "        accuracy_score(y_train, rnd_clf.predict(X_train)))\n",
    "    test_acc.append(\n",
    "        accuracy_score(y_test, rnd_clf.predict(X_test)))\n",
    "    oob_acc.append(rnd_clf.oob_score_)\n",
    "i = 0\n",
    "while i < len(estim):\n",
    "    print('Num of estimators: ', estim[i], ' train acc = ', train_acc[i],\n",
    "         ' test acc = ', test_acc[i], 'oob = ', oob_acc[i])\n",
    "    i = i + 1"
   ]
  },
  {
   "cell_type": "code",
   "execution_count": null,
   "id": "defa1c9c",
   "metadata": {},
   "outputs": [],
   "source": [
    "plt.figure(figsize = (9,7))\n",
    "plt.plot(estim, train_acc, label = 'Train Acc')\n",
    "plt.plot(estim, test_acc, label = 'Test Acc')\n",
    "plt.plot(estim, oob_acc, label = 'OOB Score')\n",
    "plt.legend()\n",
    "plt.xlabel('Number of Estimators')\n",
    "plt.ylabel('Accuracy')\n",
    "plt.title('Accuracy vs Number of Estimators')\n",
    "plt.show()"
   ]
  },
  {
   "cell_type": "markdown",
   "id": "01f4f478",
   "metadata": {},
   "source": [
    "## ADA boost classifier"
   ]
  },
  {
   "cell_type": "code",
   "execution_count": null,
   "id": "d902ba5b",
   "metadata": {},
   "outputs": [],
   "source": [
    "from sklearn.ensemble import AdaBoostClassifier\n",
    "\n",
    "ada_clf = AdaBoostClassifier(\n",
    "    DecisionTreeClassifier(max_depth=1), n_estimators=100,\n",
    "    learning_rate=0.5, random_state=42)\n",
    "ada_clf.fit(X_train, y_train)\n",
    "y_pred = ada_clf.predict(X_test)\n",
    "accuracy_score(y_test, y_pred)"
   ]
  },
  {
   "cell_type": "code",
   "execution_count": null,
   "id": "4b903258",
   "metadata": {},
   "outputs": [],
   "source": [
    "skplt.metrics.plot_confusion_matrix(y_test, ada_clf.predict(X_test));\n",
    "save_fig('Confusion Matrix for AdaBoost q5')\n",
    "print(\"Accuracy Score {}\".format(accuracy_score(y_test, ada_clf.predict(X_test))))\n",
    "print(\"Classification report: \\n{}\".format(classification_report(y_test, ada_clf.predict(X_test))))"
   ]
  },
  {
   "cell_type": "code",
   "execution_count": null,
   "id": "f1b0fe14",
   "metadata": {},
   "outputs": [],
   "source": [
    "import numpy as np\n",
    "est = np.linspace(1, 500, 2)\n",
    "train_acc = []\n",
    "test_acc = []\n",
    "num_learners = []\n",
    "for estimators in est:\n",
    "    ada_clf = AdaBoostClassifier(\n",
    "    DecisionTreeClassifier(max_depth=1), n_estimators=int(estimators),\n",
    "    learning_rate=0.5, random_state=42)\n",
    "    ada_clf.fit(X_train, y_train)\n",
    "    y_pred_test = ada_clf.predict(X_test)\n",
    "    y_pred_train = ada_clf.predict(X_train)\n",
    "    train_acc.append(accuracy_score(y_train, y_pred_train))\n",
    "    test_acc.append(accuracy_score(y_test, y_pred_test))\n",
    "    num_learners.append(estimators)"
   ]
  },
  {
   "cell_type": "code",
   "execution_count": null,
   "id": "3798f780",
   "metadata": {},
   "outputs": [],
   "source": [
    "plt.figure(figsize = (9,7))\n",
    "plt.plot(num_learners, train_acc, label = 'Train Acc')\n",
    "plt.plot(num_learners, test_acc, label = 'Test Acc')\n",
    "plt.legend()\n",
    "plt.xlabel('Number of Estimators')\n",
    "plt.ylabel('Accuracy')\n",
    "plt.title('Accuracy vs Number of Estimators')\n",
    "plt.show()"
   ]
  },
  {
   "cell_type": "markdown",
   "id": "6adea095",
   "metadata": {},
   "source": [
    "## XGBoost"
   ]
  },
  {
   "cell_type": "code",
   "execution_count": null,
   "id": "96905eeb",
   "metadata": {},
   "outputs": [],
   "source": [
    "import xgboost as xgb"
   ]
  },
  {
   "cell_type": "code",
   "execution_count": null,
   "id": "84acab33",
   "metadata": {},
   "outputs": [],
   "source": [
    "xgb_cl = xgb.XGBClassifier()\n",
    "\n",
    "# Fit\n",
    "xgb_cl.fit(X_train, y_train)\n",
    "\n",
    "# Predict\n",
    "preds = xgb_cl.predict(X_test)\n",
    "\n",
    "# Score\n",
    "accuracy_score(y_test, preds)"
   ]
  },
  {
   "cell_type": "code",
   "execution_count": null,
   "id": "13c36841",
   "metadata": {},
   "outputs": [],
   "source": [
    "skplt.metrics.plot_confusion_matrix(y_test, xgb_cl.predict(X_test), cmap='viridis');\n",
    "save_fig('Confusion Matrix for XGBoost q5')\n",
    "print(\"Accuracy Score {}\".format(accuracy_score(y_test, xgb_cl.predict(X_test))))\n",
    "print(\"Classification report: \\n{}\".format(classification_report(y_test, xgb_cl.predict(X_test))))"
   ]
  },
  {
   "cell_type": "markdown",
   "id": "c388dc52",
   "metadata": {},
   "source": [
    "## XAI using LIME\n"
   ]
  },
  {
   "cell_type": "code",
   "execution_count": null,
   "id": "0c2c9fae",
   "metadata": {},
   "outputs": [],
   "source": [
    "# conda install -c conda-forge ds-lime"
   ]
  },
  {
   "cell_type": "code",
   "execution_count": null,
   "id": "6d3c8390",
   "metadata": {},
   "outputs": [],
   "source": [
    "from lime.lime_tabular import LimeTabularExplainer"
   ]
  },
  {
   "cell_type": "code",
   "execution_count": null,
   "id": "62f76e36",
   "metadata": {},
   "outputs": [],
   "source": [
    "feature_names = X_train.columns\n",
    "#X_train.columns.values.tolist()\n",
    "class_names = y_train.name"
   ]
  },
  {
   "cell_type": "code",
   "execution_count": null,
   "id": "da8134dc",
   "metadata": {},
   "outputs": [],
   "source": [
    "# Create a LimeTabularExplainer object\n",
    "explainer = LimeTabularExplainer(X_train.values, feature_names=feature_names, class_names=['low', 'high'])"
   ]
  },
  {
   "cell_type": "code",
   "execution_count": null,
   "id": "3cc10360",
   "metadata": {},
   "outputs": [],
   "source": [
    "# Select a specific instance from the testing set for explanation\n",
    "instance_idx = 0\n",
    "instance = X_test.values[instance_idx]\n",
    "true_label = y_test[instance_idx]"
   ]
  },
  {
   "cell_type": "code",
   "execution_count": null,
   "id": "1b2d4ccc",
   "metadata": {},
   "outputs": [],
   "source": [
    "# Generate explanations using LIME\n",
    "#Since our accuracy is the highest for decision tree, we will be using decision tree to interpret \n",
    "explanation_lime = explainer.explain_instance(instance, best_grid_dt.predict_proba, num_features=len(feature_names))\n"
   ]
  },
  {
   "cell_type": "code",
   "execution_count": null,
   "id": "2fbaf2ff",
   "metadata": {},
   "outputs": [],
   "source": [
    "# Print the true label and predicted probabilities\n",
    "print(\"True Label:\", true_label)\n",
    "print(\"Predicted Probabilities:\", best_grid_dt.predict_proba([instance]))\n",
    "\n"
   ]
  },
  {
   "cell_type": "code",
   "execution_count": null,
   "id": "82348210",
   "metadata": {},
   "outputs": [],
   "source": [
    "# Print the top features and their weights in the LIME explanation\n",
    "print(\"LIME Explanation:\")\n",
    "for feature, weight in explanation_lime.as_list():\n",
    "    print(feature, weight)"
   ]
  },
  {
   "cell_type": "markdown",
   "id": "3a2b2498",
   "metadata": {},
   "source": [
    "### Feature Importance Plot"
   ]
  },
  {
   "cell_type": "code",
   "execution_count": null,
   "id": "f69728ee",
   "metadata": {},
   "outputs": [],
   "source": [
    "feature_importance = explanation_lime.as_list()"
   ]
  },
  {
   "cell_type": "code",
   "execution_count": null,
   "id": "16e6c3b4",
   "metadata": {},
   "outputs": [],
   "source": [
    "features, values = zip(*feature_importance)\n",
    "plt.barh(features, values)\n",
    "plt.xlabel('Importance')\n",
    "plt.ylabel('Features')\n",
    "plt.title('Feature Importance')\n",
    "plt.savefig('images/question 5/LIME Feature Importance q5.png')\n",
    "plt.show()"
   ]
  },
  {
   "cell_type": "markdown",
   "id": "da3edf9d",
   "metadata": {},
   "source": [
    "### LIME Explanation Plot"
   ]
  },
  {
   "cell_type": "code",
   "execution_count": null,
   "id": "c4e21084",
   "metadata": {},
   "outputs": [],
   "source": [
    "feature_contributions = explanation_lime.local_exp[1]"
   ]
  },
  {
   "cell_type": "code",
   "execution_count": null,
   "id": "a29d6fe7",
   "metadata": {},
   "outputs": [],
   "source": [
    "features, contributions = zip(*feature_contributions)\n",
    "plt.barh(feature_names, contributions)\n",
    "plt.xlabel('Contribution')\n",
    "plt.ylabel('Features')\n",
    "plt.title('LIME Explanation')\n",
    "plt.savefig('images/question 5/LIME Explanation Graph q5.png')\n",
    "plt.show()"
   ]
  },
  {
   "cell_type": "markdown",
   "id": "36364714",
   "metadata": {},
   "source": [
    "## Explanation for class 1"
   ]
  },
  {
   "cell_type": "code",
   "execution_count": null,
   "id": "75966a95",
   "metadata": {},
   "outputs": [],
   "source": [
    "#Perform the explanation on the 0th instance in the test data\n",
    "explaination = explainer.explain_instance(X_test.iloc[3], best_grid_dt.predict_proba)\n",
    "\n",
    "# show the result of the model's explaination\n",
    "print('Predicted: ', best_grid_dt.predict(X_test)[3])\n",
    "print('Actual: ', y_test[3])\n",
    "explaination.show_in_notebook(show_table = True, show_all = False)\n",
    "explaination.save_to_file('images/question 5/LIME Prediction Probability for class 1 q5.html')"
   ]
  },
  {
   "cell_type": "markdown",
   "id": "c7d143ca",
   "metadata": {},
   "source": [
    "## Explanation for class 0"
   ]
  },
  {
   "cell_type": "code",
   "execution_count": null,
   "id": "35cb4cab",
   "metadata": {},
   "outputs": [],
   "source": [
    "#Perform the explanation on the 8th instance in the test data\n",
    "explaination = explainer.explain_instance(X_test.iloc[8], best_grid_dt.predict_proba)\n",
    "\n",
    "# show the result of the model's explaination\n",
    "print('Predicted: ', best_grid_dt.predict(X_test)[8])\n",
    "print('Actual: ', y_test[8])\n",
    "explaination.show_in_notebook(show_table = True, show_all = False,)\n",
    "explaination.save_to_file('images/question 5/LIME Prediction Probability for class 0 q5.html')"
   ]
  },
  {
   "cell_type": "code",
   "execution_count": null,
   "id": "8eb1565f",
   "metadata": {},
   "outputs": [],
   "source": [
    "pd.DataFrame({'y_test': y_test, 'y_pred': best_grid_dt.predict(X_test)}).head(10)"
   ]
  },
  {
   "cell_type": "code",
   "execution_count": null,
   "id": "1868efde",
   "metadata": {},
   "outputs": [],
   "source": []
  }
 ],
 "metadata": {
  "kernelspec": {
   "display_name": "Python 3 (ipykernel)",
   "language": "python",
   "name": "python3"
  },
  "language_info": {
   "codemirror_mode": {
    "name": "ipython",
    "version": 3
   },
   "file_extension": ".py",
   "mimetype": "text/x-python",
   "name": "python",
   "nbconvert_exporter": "python",
   "pygments_lexer": "ipython3",
   "version": "3.9.13"
  }
 },
 "nbformat": 4,
 "nbformat_minor": 5
}
