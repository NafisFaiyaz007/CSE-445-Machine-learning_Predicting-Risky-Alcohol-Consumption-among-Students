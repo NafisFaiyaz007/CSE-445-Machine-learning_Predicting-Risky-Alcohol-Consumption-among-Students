{
 "cells": [
  {
   "cell_type": "markdown",
   "id": "dafa67c8",
   "metadata": {},
   "source": [
    "## Research question 5\n",
    "Does lack of family support or educational support contribute as a factor to consuming alcohol?\n"
   ]
  },
  {
   "cell_type": "code",
   "execution_count": 1,
   "id": "a9c5ea0c",
   "metadata": {},
   "outputs": [],
   "source": [
    "import pandas as pd\n",
    "import seaborn as sns\n",
    "from matplotlib import pyplot as plt\n",
    "%matplotlib inline\n",
    "\n",
    "from sklearn import set_config\n",
    "set_config(transform_output = \"pandas\")"
   ]
  },
  {
   "cell_type": "markdown",
   "id": "7e086bae",
   "metadata": {},
   "source": [
    "## function to save hq figs"
   ]
  },
  {
   "cell_type": "code",
   "execution_count": 3,
   "id": "cbf0da04",
   "metadata": {},
   "outputs": [],
   "source": [
    "from pathlib import Path\n",
    "IMAGES_PATH = Path() / \"images\"\n",
    "IMAGES_PATH.mkdir(parents=True, exist_ok=True)\n",
    "\n",
    "def save_fig(fig_id, tight_layout=True, fig_extension=\"png\", resolution=300):\n",
    "    path = IMAGES_PATH / f\"{fig_id}.{fig_extension}\"\n",
    "    if tight_layout:\n",
    "        plt.tight_layout()\n",
    "    plt.savefig(path, format=fig_extension, dpi=resolution)"
   ]
  },
  {
   "cell_type": "code",
   "execution_count": 4,
   "id": "5a4f3038",
   "metadata": {},
   "outputs": [
    {
     "name": "stdout",
     "output_type": "stream",
     "text": [
      "sex_F\n",
      "sex_M\n",
      "famsize_GT3\n",
      "famsize_LE3\n",
      "Pstatus_A\n",
      "Pstatus_T\n",
      "Mjob_at_home\n",
      "Mjob_health\n",
      "Mjob_other\n",
      "Mjob_services\n",
      "Mjob_teacher\n",
      "Fjob_at_home\n",
      "Fjob_health\n",
      "Fjob_other\n",
      "Fjob_services\n",
      "Fjob_teacher\n",
      "guardian_father\n",
      "guardian_mother\n",
      "guardian_other\n",
      "schoolsup_no\n",
      "schoolsup_yes\n",
      "famsup_no\n",
      "famsup_yes\n",
      "paid_no\n",
      "paid_yes\n",
      "activities_no\n",
      "activities_yes\n",
      "higher_no\n",
      "higher_yes\n",
      "romantic_no\n",
      "romantic_yes\n",
      "age\n",
      "Medu\n",
      "Fedu\n",
      "studytime\n",
      "failures\n",
      "famrel\n",
      "freetime\n",
      "goout\n",
      "health\n",
      "absences\n",
      "avg_grade\n",
      "alc\n"
     ]
    }
   ],
   "source": [
    "# Import train and test sets\n",
    "X_train = pd.read_csv('smoteTrainSet.csv')\n",
    "X_test = pd.read_csv('ScaledTestSet.csv')\n",
    "for col in X_test.columns:\n",
    "    print(col)"
   ]
  }
 ],
 "metadata": {
  "kernelspec": {
   "display_name": "Python 3 (ipykernel)",
   "language": "python",
   "name": "python3"
  },
  "language_info": {
   "codemirror_mode": {
    "name": "ipython",
    "version": 3
   },
   "file_extension": ".py",
   "mimetype": "text/x-python",
   "name": "python",
   "nbconvert_exporter": "python",
   "pygments_lexer": "ipython3",
   "version": "3.10.9"
  }
 },
 "nbformat": 4,
 "nbformat_minor": 5
}
