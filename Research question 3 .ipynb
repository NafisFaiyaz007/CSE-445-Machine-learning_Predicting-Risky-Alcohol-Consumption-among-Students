{
 "cells": [
  {
   "cell_type": "markdown",
   "id": "331012f0",
   "metadata": {},
   "source": [
    "## Research question 3\n",
    "Does the quality of family relationships, parents' cohabitation status have an impact on alcohol consumption?\n",
    "\n",
    "selected columns\n"
   ]
  },
  {
   "cell_type": "code",
   "execution_count": null,
   "id": "6f31a0cf",
   "metadata": {},
   "outputs": [],
   "source": []
  }
 ],
 "metadata": {
  "kernelspec": {
   "display_name": "Python 3 (ipykernel)",
   "language": "python",
   "name": "python3"
  },
  "language_info": {
   "codemirror_mode": {
    "name": "ipython",
    "version": 3
   },
   "file_extension": ".py",
   "mimetype": "text/x-python",
   "name": "python",
   "nbconvert_exporter": "python",
   "pygments_lexer": "ipython3",
   "version": "3.10.9"
  }
 },
 "nbformat": 4,
 "nbformat_minor": 5
}
